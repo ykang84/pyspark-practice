{
 "cells": [
  {
   "cell_type": "markdown",
   "metadata": {
    "collapsed": true
   },
   "source": [
    "# PageRank\n",
    "Realize the famous PageRank algorithm in a distributed system. This is very important when dealing with a large number pages that cannot be fitted in the memory or even hard drive of a single computer. Here we use the iterative approach instead of direct SVD approach. Initially all pages have weight 1 (or 1 / number of pages). To avoid deadends in the network, there is a probability of `beta` to jump to a random page with a uniform probability distribution (or any distribution specified in the initial pagerank input)."
   ]
  },
  {
   "cell_type": "code",
   "execution_count": 1,
   "metadata": {
    "collapsed": true
   },
   "outputs": [],
   "source": [
    "from pyspark import SparkContext, SparkConf\n",
    "sc = SparkContext()"
   ]
  },
  {
   "cell_type": "code",
   "execution_count": 2,
   "metadata": {},
   "outputs": [
    {
     "data": {
      "text/plain": [
       "[u'a\\tb,c,d', u'b\\ta,d', u'c\\ta', u'd\\tb,c']"
      ]
     },
     "execution_count": 2,
     "metadata": {},
     "output_type": "execute_result"
    }
   ],
   "source": [
    "# Read transition matrix\n",
    "tm_file_RDD = sc.textFile('PageRank/transitionsmall.txt')\n",
    "tm_file_RDD.collect()"
   ]
  },
  {
   "cell_type": "code",
   "execution_count": 4,
   "metadata": {},
   "outputs": [
    {
     "data": {
      "text/plain": [
       "[(u'a', (u'b', 0.3333333333333333)),\n",
       " (u'a', (u'c', 0.3333333333333333)),\n",
       " (u'a', (u'd', 0.3333333333333333)),\n",
       " (u'b', (u'a', 0.5)),\n",
       " (u'b', (u'd', 0.5)),\n",
       " (u'c', (u'a', 1.0)),\n",
       " (u'd', (u'b', 0.5)),\n",
       " (u'd', (u'c', 0.5))]"
      ]
     },
     "execution_count": 4,
     "metadata": {},
     "output_type": "execute_result"
    }
   ],
   "source": [
    "def create_tm_pairs(line):\n",
    "    start, ends = line.strip().split('\\t')\n",
    "    ends = ends.split(',')\n",
    "    weight = 1.0 / len(ends)\n",
    "    return [(start, (end, weight)) for end in ends]\n",
    "\n",
    "tm_RDD = tm_file_RDD.flatMap(create_tm_pairs)\n",
    "tm_RDD.collect()"
   ]
  },
  {
   "cell_type": "code",
   "execution_count": 10,
   "metadata": {},
   "outputs": [
    {
     "data": {
      "text/plain": [
       "[(u'd', 0.22514619883040934),\n",
       " (u'c', 0.22514619883040934),\n",
       " (u'b', 0.22514619883040934),\n",
       " (u'a', 0.3245614035087717)]"
      ]
     },
     "execution_count": 10,
     "metadata": {},
     "output_type": "execute_result"
    }
   ],
   "source": [
    "iterations = 40\n",
    "beta = 0.15    # 1 - dumping factor\n",
    "\n",
    "def element_mult(pair):\n",
    "    key, values = pair\n",
    "    start_weight = 0.0\n",
    "    transition = {}\n",
    "    for value in values:\n",
    "        if isinstance(value, tuple):\n",
    "            transition[value[0]] = value[1]\n",
    "        else:\n",
    "            start_weight = float(value)\n",
    "    return [(dist, start_weight * rate) for dist, rate in transition.iteritems()]\n",
    "\n",
    "def pr_multiply(start_pr, tm, beta, uniform_pr):\n",
    "    mat = start_pr.union(tm)\n",
    "    mat_mult = mat.groupByKey().flatMap(element_mult).reduceByKey(lambda x, y : x+y)\n",
    "    return mat_mult.map(lambda x : (x[0], x[1] * (1-beta))).union(\n",
    "                    uniform_pr.map(lambda x : (x[0], x[1] * beta))).reduceByKey(lambda x, y : x+y)\n",
    "\n",
    "def pr_split_line(line):\n",
    "    page, rank = line.strip().split('\\t')\n",
    "    rank = float(rank)\n",
    "    return (page, rank)\n",
    "    \n",
    "pr_RDDs = [None] * (iterations + 1)\n",
    "pr_RDDs[0] = sc.textFile('PageRank/prsmall.txt').map(pr_split_line)\n",
    "for i in xrange(iterations):\n",
    "    pr_RDDs[i+1] = pr_multiply(pr_RDDs[i], tm_RDD, beta, pr_RDDs[0])\n",
    "pr_RDDs[iterations].collect()"
   ]
  },
  {
   "cell_type": "code",
   "execution_count": 11,
   "metadata": {
    "collapsed": true
   },
   "outputs": [],
   "source": [
    "# save file\n",
    "pr_RDDs[iterations].saveAsTextFile(\"PageRank/output\")"
   ]
  },
  {
   "cell_type": "code",
   "execution_count": null,
   "metadata": {
    "collapsed": true
   },
   "outputs": [],
   "source": []
  }
 ],
 "metadata": {
  "kernelspec": {
   "display_name": "Python 2",
   "language": "python",
   "name": "python2"
  },
  "language_info": {
   "codemirror_mode": {
    "name": "ipython",
    "version": 2
   },
   "file_extension": ".py",
   "mimetype": "text/x-python",
   "name": "python",
   "nbconvert_exporter": "python",
   "pygments_lexer": "ipython2",
   "version": "2.7.13"
  }
 },
 "nbformat": 4,
 "nbformat_minor": 2
}
