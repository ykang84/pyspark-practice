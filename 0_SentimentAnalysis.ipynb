{
 "cells": [
  {
   "cell_type": "markdown",
   "metadata": {
    "collapsed": true
   },
   "source": [
    "# MapReduce for Sentiment Analysis"
   ]
  },
  {
   "cell_type": "code",
   "execution_count": 1,
   "metadata": {
    "collapsed": true
   },
   "outputs": [],
   "source": [
    "from pyspark import SparkContext, SparkConf\n",
    "sc = SparkContext()"
   ]
  },
  {
   "cell_type": "code",
   "execution_count": 2,
   "metadata": {
    "collapsed": true
   },
   "outputs": [],
   "source": [
    "# prepare the emotion dictionary for dictionary file\n",
    "# file format: word\\tfeeling\\n\n",
    "\n",
    "emotion_dict = {}\n",
    "with open('sentimentAnalysis/emotionCategory.txt', 'r') as dict_file:\n",
    "    for line in dict_file:\n",
    "        word, feeling = line.strip().split('\\t')\n",
    "        emotion_dict[word.lower()] = feeling"
   ]
  },
  {
   "cell_type": "code",
   "execution_count": 3,
   "metadata": {
    "scrolled": false
   },
   "outputs": [
    {
     "name": "stdout",
     "output_type": "stream",
     "text": [
      "sentimentAnalysis/input/ALL'S WELL THAT ENDS WELL\n",
      "sentimentAnalysis/input/PerfectPositiveThinking\n",
      "sentimentAnalysis/input/SONNETS\n"
     ]
    }
   ],
   "source": [
    "# read all articles in input folder\n",
    "\n",
    "from os import listdir\n",
    "from os.path import isfile, join\n",
    "\n",
    "input_path = 'sentimentAnalysis/input'\n",
    "input_files = [f for f in listdir(input_path) if isfile(join(input_path, f))]\n",
    "results = []\n",
    "\n",
    "# map to emotions\n",
    "def split_line(line):\n",
    "    return line.strip().split()\n",
    "\n",
    "def create_feelings_pairs(word):\n",
    "    if word.lower() in emotion_dict:\n",
    "        return (emotion_dict[word.lower()], 1)\n",
    "    else:\n",
    "        return ('neutral', 0)\n",
    "\n",
    "for input_file in input_files:\n",
    "    print join(input_path, input_file)\n",
    "    text_RDD = sc.textFile(join(input_path, input_file))\n",
    "    feelings_RDD = text_RDD.flatMap(split_line).map(create_feelings_pairs)\n",
    "    \n",
    "    file_emotion_RDD = feelings_RDD.reduceByKey(lambda a, b: a + b)\n",
    "    emotion_result = file_emotion_RDD.collect()\n",
    "    \n",
    "    # prepare output\n",
    "    result = {}\n",
    "    result['title'] = input_file\n",
    "    result['data'] = {}\n",
    "    for pair in emotion_result:\n",
    "        result['data'][pair[0]] = pair[1]\n",
    "    results.append(result)"
   ]
  },
  {
   "cell_type": "code",
   "execution_count": 4,
   "metadata": {
    "collapsed": true
   },
   "outputs": [],
   "source": [
    "# save as a json file\n",
    "import json\n",
    "\n",
    "with open('sentimentAnalysis/results.json', 'w') as f:\n",
    "    json.dump(results, f)"
   ]
  },
  {
   "cell_type": "code",
   "execution_count": null,
   "metadata": {
    "collapsed": true
   },
   "outputs": [],
   "source": []
  }
 ],
 "metadata": {
  "kernelspec": {
   "display_name": "Python 3",
   "language": "python",
   "name": "python3"
  },
  "language_info": {
   "codemirror_mode": {
    "name": "ipython",
    "version": 3
   },
   "file_extension": ".py",
   "mimetype": "text/x-python",
   "name": "python",
   "nbconvert_exporter": "python",
   "pygments_lexer": "ipython3",
   "version": "3.7.0"
  }
 },
 "nbformat": 4,
 "nbformat_minor": 2
}
