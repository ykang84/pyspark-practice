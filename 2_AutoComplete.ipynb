{
 "cells": [
  {
   "cell_type": "markdown",
   "metadata": {
    "collapsed": true
   },
   "source": [
    "# Search Auto Complete\n",
    "\n",
    "### N-gram Algorithm\n",
    "First learn from sample text the frequency of n-word sequence."
   ]
  },
  {
   "cell_type": "code",
   "execution_count": 1,
   "metadata": {},
   "outputs": [],
   "source": [
    "from pyspark import SparkContext, SparkConf\n",
    "sc = SparkContext()"
   ]
  },
  {
   "cell_type": "markdown",
   "metadata": {},
   "source": [
    "Because pyspark use `\\n` as the delimiter when reading files, we need to manually remove all `\\n` (or `\\r\\n` depending on the system) in the input files and replace all `.` as `\\n`.\n",
    "This can be done by running the following code in bash\n",
    "```\n",
    "tr -d '\\r\\n' < *.txt | tr '.' '\\n' > combined_input.txt\n",
    "```"
   ]
  },
  {
   "cell_type": "code",
   "execution_count": 10,
   "metadata": {
    "scrolled": false
   },
   "outputs": [
    {
     "data": {
      "text/plain": [
       "[((u'minutiae', u'of', u'dress'), 2),\n",
       " ((u'david', u'in', u'his'), 1),\n",
       " ((u'at', u'the', u'beginning'), 10),\n",
       " ((u'meat', u'more'), 1),\n",
       " ((u'cupid', u's', u'golden'), 1),\n",
       " ((u'dorigen', u'that'), 1),\n",
       " ((u'alison', u'and', u'nicholas'), 1),\n",
       " ((u'proverb', u'of', u'a', u'shrew'), 1),\n",
       " ((u'no', u'remedy', u'in', u'this'), 1),\n",
       " ((u'it', u'traces', u'her', u'gradual', u'progress'), 1)]"
      ]
     },
     "execution_count": 10,
     "metadata": {},
     "output_type": "execute_result"
    }
   ],
   "source": [
    "# build n-gram from sample text\n",
    "no_NGram = 6     # number of n for n gram model, length of sequence\n",
    "\n",
    "import re\n",
    "def nGramBuilder(line):\n",
    "    ans = []\n",
    "    line = line.strip().lower()\n",
    "    line = re.sub(\"[^a-z]\", \" \", line)\n",
    "    words = line.strip().split()\n",
    "    if len(words) < 2:\n",
    "        return ans\n",
    "    for i in xrange(len(words)):\n",
    "        for j in xrange(1, no_NGram):\n",
    "            if i + j < len(words):\n",
    "                ans.append((tuple(words[i:i+j+1]), 1))\n",
    "            else:\n",
    "                break\n",
    "    return ans\n",
    "    \n",
    "text_RDD = sc.textFile('AutoComplete/bookList/combined_input.txt')\n",
    "text_RDD.take(10)\n",
    "\n",
    "nGram_RDD = text_RDD.flatMap(nGramBuilder).reduceByKey(lambda a, b : a+b)\n",
    "nGram_RDD.take(10)"
   ]
  },
  {
   "cell_type": "markdown",
   "metadata": {},
   "source": [
    "When we see the first n-1 words, we know the probability of the next word by looking at the n-gram results. Some sequence only appeared a few time so we will discard them. A given input may have many possible predictions, we only want the top ones."
   ]
  },
  {
   "cell_type": "code",
   "execution_count": 21,
   "metadata": {
    "scrolled": false
   },
   "outputs": [
    {
     "data": {
      "text/plain": [
       "[(u'with ', [u'the']),\n",
       " (u'the poet ', [u's']),\n",
       " (u'never ', [u'was']),\n",
       " (u'unto ', [u'the']),\n",
       " (u'sir ', [u'quoth']),\n",
       " (u'religious ', [u'and']),\n",
       " (u'he was one ', [u'of']),\n",
       " (u'valentine ', [u's']),\n",
       " (u'as ye ', [u'shall']),\n",
       " (u'green ', [u'and']),\n",
       " (u'well ', [u'as']),\n",
       " (u'gan ', [u'to']),\n",
       " (u'words ', [u'of']),\n",
       " (u'over ', [u'the']),\n",
       " (u'the nun ', [u's']),\n",
       " (u'became ', [u'a']),\n",
       " (u'up with ', [u'the']),\n",
       " (u'large ', [u'and']),\n",
       " (u'anon ', [u'and']),\n",
       " (u'and in ', [u'the', u'his']),\n",
       " (u'up and ', [u'down']),\n",
       " (u'as ye shall ', [u'hear']),\n",
       " (u'him ', [u'to']),\n",
       " (u'and gan ', [u'to']),\n",
       " (u'thee ', [u'and']),\n",
       " (u'panel ', [u'pictures']),\n",
       " (u'beauty ', [u'of']),\n",
       " (u'dead ', [u'and']),\n",
       " (u'she ', [u'was']),\n",
       " (u'may ', [u'be']),\n",
       " (u'i say ', [u'that', u'not']),\n",
       " (u'general ', [u'bibliography']),\n",
       " (u'appearance ', [u'of']),\n",
       " (u'sea ', [u'and']),\n",
       " (u'same ', [u'time']),\n",
       " (u'it has ', [u'been']),\n",
       " (u'o ', [u'er']),\n",
       " (u'christ ', [u'and']),\n",
       " (u'regard ', [u'for']),\n",
       " (u'artists ', [u'of']),\n",
       " (u'see note to the ', [u'prologue']),\n",
       " (u'da ', [u'vinci']),\n",
       " (u'times ', [u'and']),\n",
       " (u'breadth ', [u'of']),\n",
       " (u'mr ', [u'wright']),\n",
       " (u'this is ', [u'to']),\n",
       " (u'i pray ', [u'you']),\n",
       " (u'point ', [u'of']),\n",
       " (u'and to ', [u'the']),\n",
       " (u'away ', [u'the'])]"
      ]
     },
     "execution_count": 21,
     "metadata": {},
     "output_type": "execute_result"
    }
   ],
   "source": [
    "# build language model\n",
    "threshold = 10      # min frequency to consider in the model\n",
    "top_k = 10           # no of suggestion to show\n",
    "\n",
    "def langModelFilter(pair):\n",
    "    key, value = pair\n",
    "    return len(key) >= 2 and value > threshold\n",
    "\n",
    "def nGram2Predict(pair):\n",
    "    key, value = pair\n",
    "    start = ' '.join(key[:-1]) + ' '\n",
    "    predict = key[-1]\n",
    "    return ( start, (predict, value) )\n",
    "\n",
    "def selectTop(pair):\n",
    "    key, values = pair\n",
    "    freq_dict = {}\n",
    "    for value in values:\n",
    "        if value[1] in freq_dict:\n",
    "            freq_dict[value[1]].append(value[0])\n",
    "        else:\n",
    "            freq_dict[value[1]] = [value[0]]\n",
    "    ans = []\n",
    "    for i in sorted(freq_dict.keys(), reverse = True):\n",
    "        ans.extend(freq_dict[i])\n",
    "        if ans > threshold:\n",
    "            break\n",
    "    return (key, ans)\n",
    "\n",
    "lang_model_RDD = nGram_RDD.filter(langModelFilter).map(nGram2Predict).groupByKey().map(selectTop)\n",
    "lang_model_RDD.takeSample(withReplacement = False, num = 50)"
   ]
  },
  {
   "cell_type": "code",
   "execution_count": null,
   "metadata": {
    "collapsed": true
   },
   "outputs": [],
   "source": []
  }
 ],
 "metadata": {
  "kernelspec": {
   "display_name": "Python 2",
   "language": "python",
   "name": "python2"
  },
  "language_info": {
   "codemirror_mode": {
    "name": "ipython",
    "version": 2
   },
   "file_extension": ".py",
   "mimetype": "text/x-python",
   "name": "python",
   "nbconvert_exporter": "python",
   "pygments_lexer": "ipython2",
   "version": "2.7.13"
  }
 },
 "nbformat": 4,
 "nbformat_minor": 2
}
