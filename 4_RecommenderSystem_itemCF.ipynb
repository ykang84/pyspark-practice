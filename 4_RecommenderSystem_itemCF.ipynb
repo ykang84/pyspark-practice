{
 "cells": [
  {
   "cell_type": "markdown",
   "metadata": {
    "collapsed": true
   },
   "source": [
    "# Movie Recommender System\n",
    "Use existing movie ratings history of the users to predict which movies to recommend to each user. Here is a solution using the item collaborative filtering algorithm. A more accurate model should also include other information of the movie such as movie type, release year, actors etc., and a combination with the user collaborative filtering method."
   ]
  },
  {
   "cell_type": "code",
   "execution_count": 1,
   "metadata": {
    "collapsed": true
   },
   "outputs": [],
   "source": [
    "from pyspark import SparkContext, SparkConf\n",
    "sc = SparkContext()"
   ]
  },
  {
   "cell_type": "code",
   "execution_count": 29,
   "metadata": {},
   "outputs": [
    {
     "data": {
      "text/plain": [
       "[u'1,10001,5.0',\n",
       " u'1,10002,3.0',\n",
       " u'1,10003,2.5',\n",
       " u'2,10001,2.0',\n",
       " u'2,10002,2.5']"
      ]
     },
     "execution_count": 29,
     "metadata": {},
     "output_type": "execute_result"
    }
   ],
   "source": [
    "# read input file\n",
    "input_text_RDD = sc.textFile('RecommenderSystem/userRating.txt')\n",
    "input_text_RDD.take(5)\n",
    "# format:\n",
    "# uid,movie_id,rating"
   ]
  },
  {
   "cell_type": "code",
   "execution_count": 30,
   "metadata": {
    "scrolled": false
   },
   "outputs": [
    {
     "data": {
      "text/plain": [
       "[(1, (10001, 5.0)),\n",
       " (1, (10002, 3.0)),\n",
       " (1, (10003, 2.5)),\n",
       " (2, (10001, 2.0)),\n",
       " (2, (10002, 2.5))]"
      ]
     },
     "execution_count": 30,
     "metadata": {},
     "output_type": "execute_result"
    }
   ],
   "source": [
    "# group by user\n",
    "def split_input_line(line):\n",
    "    uid, movie_id, rating = line.strip().split(',')\n",
    "    return (int(uid), (int(movie_id), float(rating)) )\n",
    "\n",
    "user_ratings_RDD = input_text_RDD.map(split_input_line)\n",
    "user_ratings_RDD.take(5)\n",
    "# format: <uid, [(movie, rate)...]>"
   ]
  },
  {
   "cell_type": "code",
   "execution_count": 31,
   "metadata": {},
   "outputs": [
    {
     "data": {
      "text/plain": [
       "[((10002, 10006), 1),\n",
       " ((10005, 10005), 2),\n",
       " ((10004, 10004), 4),\n",
       " ((10003, 10003), 4),\n",
       " ((10006, 10004), 2)]"
      ]
     },
     "execution_count": 31,
     "metadata": {},
     "output_type": "execute_result"
    }
   ],
   "source": [
    "# build co-occurance count\n",
    "def create_co_occur_pairs(entry):\n",
    "    uid, movie_pairs = entry\n",
    "    movie_list = [x[0] for x in movie_pairs]\n",
    "    l = len(movie_list)\n",
    "    ans = []\n",
    "    for i in xrange(l):\n",
    "        for j in xrange(l):\n",
    "            ans.append( ( (movie_list[i], movie_list[j]), 1) ) \n",
    "            # note: intentional count the pair AND the reversed pair\n",
    "    return ans\n",
    "\n",
    "co_occur_RDD = user_ratings_RDD.groupByKey().flatMap(create_co_occur_pairs).reduceByKey(lambda a, b : a+b)\n",
    "co_occur_RDD.take(5)\n",
    "# format: <(movieA, movieB), count>"
   ]
  },
  {
   "cell_type": "code",
   "execution_count": 32,
   "metadata": {},
   "outputs": [
    {
     "data": {
      "text/plain": [
       "[(10006, (10002, 0.07692307692307693)),\n",
       " (10004, (10002, 0.15384615384615385)),\n",
       " (10002, (10002, 0.23076923076923078)),\n",
       " (10003, (10002, 0.23076923076923078)),\n",
       " (10001, (10002, 0.23076923076923078))]"
      ]
     },
     "execution_count": 32,
     "metadata": {},
     "output_type": "execute_result"
    }
   ],
   "source": [
    "# normalize by row\n",
    "def pair_to_transition(pair_count):\n",
    "    pair, count = pair_count\n",
    "    return (pair[0], (pair[1], count))\n",
    "\n",
    "def normalize_transitions(from_tos):\n",
    "    from_movie, to_movies = from_tos      # rating pulled from from_movie to to_movie, \n",
    "    sum = 0\n",
    "    for to_movie in to_movies:\n",
    "        sum += to_movie[1]\n",
    "    return [(to_movie[0], (from_movie, float(to_movie[1]) / sum)) for to_movie in to_movies]\n",
    "\n",
    "norm_co_occur_RDD = co_occur_RDD.map(pair_to_transition).groupByKey().flatMap(normalize_transitions)\n",
    "norm_co_occur_RDD.take(5)\n",
    "# format: <to_movie, (from_movie, ratio)>"
   ]
  },
  {
   "cell_type": "code",
   "execution_count": 33,
   "metadata": {
    "scrolled": false
   },
   "outputs": [
    {
     "data": {
      "text/plain": [
       "[((1, 10005), 1.55),\n",
       " ((4, 10002), 2.8461538461538467),\n",
       " ((2, 10004), 1.9999999999999998),\n",
       " ((3, 10007), 3.875),\n",
       " ((1, 10001), 2.0952380952380953)]"
      ]
     },
     "execution_count": 33,
     "metadata": {},
     "output_type": "execute_result"
    }
   ],
   "source": [
    "# multiplication: predicted = co_occur * existing  (for each user)\n",
    "def split_line_to_movie_entry(line):\n",
    "    uid, movie_id, rating = line.strip().split(',')\n",
    "    return ( int(movie_id), (int(uid), float(rating), 'r') )\n",
    "\n",
    "movie_rating_RDD = input_text_RDD.map(split_line_to_movie_entry)\n",
    "#movie_rating_RDD.take(5)\n",
    "# format: <movie_id : (uid, rating, 'r')>\n",
    "\n",
    "def unit_mult(movie_info):\n",
    "    movie_id, info_list = movie_info\n",
    "    co_occur = {}\n",
    "    user_rating = {}\n",
    "    for info in info_list:\n",
    "        if len(info) == 2:     # co-occur\n",
    "            co_occur[info[0]] = info[1]\n",
    "        else:      # user rating\n",
    "            user_rating[info[0]] = info[1]\n",
    "    \n",
    "    ans = []\n",
    "    for user, rating in user_rating.iteritems():\n",
    "        for from_movie, ratio in co_occur.iteritems():\n",
    "            ans.append(( (user, from_movie), rating * ratio ))\n",
    "    return ans\n",
    "\n",
    "def multiply(existing_rating, co_occur):\n",
    "    mat = existing_rating.union(co_occur)\n",
    "    return mat.groupByKey().flatMap(unit_mult).reduceByKey(lambda a, b : a+b)\n",
    "\n",
    "predicted_rating_RDD = multiply(movie_rating_RDD, norm_co_occur_RDD)\n",
    "predicted_rating_RDD.take(5)\n",
    "# format: <(uid, movie_id) : prediction>"
   ]
  },
  {
   "cell_type": "code",
   "execution_count": 35,
   "metadata": {
    "scrolled": false
   },
   "outputs": [
    {
     "data": {
      "text/plain": [
       "[(1, [10004, 10006, 10005, 10007]),\n",
       " (2, [10006, 10005, 10007]),\n",
       " (3, [10006, 10003, 10002]),\n",
       " (4, [10002, 10005, 10007]),\n",
       " (5, [10007])]"
      ]
     },
     "execution_count": 35,
     "metadata": {},
     "output_type": "execute_result"
    }
   ],
   "source": [
    "# Group by user and only take top k for each user\n",
    "top_k = 5\n",
    "\n",
    "predicted_user_rating_RDD = predicted_rating_RDD.map(lambda x: (x[0][0], (x[0][1], x[1], 'p')))\n",
    "#predicted_user_rating_RDD.take(5)\n",
    "# format: <uid : (movie, predict_rating, 'p')>\n",
    "\n",
    "def find_top_predicts(user_ratings):\n",
    "    user, ratings = user_ratings\n",
    "    watched = set()\n",
    "    valid_predictions = []\n",
    "    for rating in ratings:\n",
    "        if len(rating) == 2:    # given data\n",
    "            watched.add(rating[0])\n",
    "    for rating in ratings:\n",
    "        if len(rating) == 3:     # prediction\n",
    "            if rating[0] not in watched:\n",
    "                valid_predictions.append( (rating[1], rating[0]) )\n",
    "    valid_predictions.sort(reverse = True)\n",
    "    return ( user, [pair[1] for pair in valid_predictions[:top_k]] )\n",
    "\n",
    "ratings_RDD = predicted_user_rating_RDD.union(user_ratings_RDD).groupByKey()\n",
    "predicted_top_RDD = ratings_RDD.map(find_top_predicts)\n",
    "predicted_top_RDD.collect()"
   ]
  },
  {
   "cell_type": "code",
   "execution_count": null,
   "metadata": {
    "collapsed": true
   },
   "outputs": [],
   "source": []
  }
 ],
 "metadata": {
  "kernelspec": {
   "display_name": "Python 2",
   "language": "python",
   "name": "python2"
  },
  "language_info": {
   "codemirror_mode": {
    "name": "ipython",
    "version": 2
   },
   "file_extension": ".py",
   "mimetype": "text/x-python",
   "name": "python",
   "nbconvert_exporter": "python",
   "pygments_lexer": "ipython2",
   "version": "2.7.13"
  }
 },
 "nbformat": 4,
 "nbformat_minor": 2
}
