{
 "cells": [
  {
   "cell_type": "markdown",
   "metadata": {
    "collapsed": true
   },
   "source": [
    "# MapReduce for Word Count"
   ]
  },
  {
   "cell_type": "code",
   "execution_count": null,
   "metadata": {},
   "outputs": [],
   "source": [
    "import os\n",
    "os.environ['JAVA_HOME']= 'C:\\Program Files\\Java\\jdk-10.0.2'\n",
    "os.environ['PYSPARK_SUBMIT_ARGS'] = \"--master spark://192.168.2.40:7077\""
   ]
  },
  {
   "cell_type": "code",
   "execution_count": null,
   "metadata": {},
   "outputs": [],
   "source": [
    "from pyspark import SparkContext, SparkConf\n",
    "sc = SparkContext()"
   ]
  },
  {
   "cell_type": "code",
   "execution_count": null,
   "metadata": {},
   "outputs": [],
   "source": [
    "# read file\n",
    "text_RDD = sc.textFile(\"wordCount/words.txt\")\n",
    "text_RDD.take(1)"
   ]
  },
  {
   "cell_type": "code",
   "execution_count": null,
   "metadata": {},
   "outputs": [],
   "source": [
    "text_RDD"
   ]
  },
  {
   "cell_type": "code",
   "execution_count": null,
   "metadata": {},
   "outputs": [],
   "source": [
    "# map\n",
    "def split_words(line):\n",
    "    return line.strip().split()\n",
    "\n",
    "def create_pair(word):\n",
    "    return (word.lower(), 1)\n",
    "\n",
    "pair_RDD = text_RDD.flatMap(split_words).map(create_pair)\n",
    "pair_RDD.collect()"
   ]
  },
  {
   "cell_type": "code",
   "execution_count": null,
   "metadata": {},
   "outputs": [],
   "source": [
    "# reduce\n",
    "def sum_counts(a, b):\n",
    "    return a + b\n",
    "\n",
    "wordcounts_RDD = pair_RDD.reduceByKey(sum_counts)\n",
    "wordcounts_RDD.collect()"
   ]
  },
  {
   "cell_type": "code",
   "execution_count": null,
   "metadata": {},
   "outputs": [],
   "source": [
    "# save to file\n",
    "wordcounts_RDD.saveAsTextFile(\"wordCount/output\")"
   ]
  },
  {
   "cell_type": "code",
   "execution_count": null,
   "metadata": {},
   "outputs": [],
   "source": []
  }
 ],
 "metadata": {
  "kernelspec": {
   "display_name": "Python 3",
   "language": "python",
   "name": "python3"
  }
 },
 "nbformat": 4,
 "nbformat_minor": 2
}
